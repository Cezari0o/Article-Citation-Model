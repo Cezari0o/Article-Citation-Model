{
  "nbformat": 4,
  "nbformat_minor": 0,
  "metadata": {
    "colab": {
      "name": "A5_PLN.ipynb",
      "provenance": [],
      "collapsed_sections": [],
      "include_colab_link": true
    },
    "kernelspec": {
      "name": "python3",
      "display_name": "Python 3"
    },
    "language_info": {
      "name": "python"
    }
  },
  "cells": [
    {
      "cell_type": "markdown",
      "metadata": {
        "id": "view-in-github",
        "colab_type": "text"
      },
      "source": [
        "<a href=\"https://colab.research.google.com/github/Cezari0o/Article-Citation-Model/blob/main/a5/A5_PLN.ipynb\" target=\"_parent\"><img src=\"https://colab.research.google.com/assets/colab-badge.svg\" alt=\"Open In Colab\"/></a>"
      ]
    },
    {
      "cell_type": "markdown",
      "source": [
        "# Atividade 5\n",
        "Feita por Gabriel Cesário Silva Martins - 180100912"
      ],
      "metadata": {
        "id": "lqaErhGSWcVq"
      }
    },
    {
      "cell_type": "markdown",
      "source": [
        "# Treinamento do modelo\n",
        "\n",
        "Código do treinamento, feito pelo professor, de uma rede profunda multicamadas para classificação de sentimentos em tweets. Disponível neste [link](https://github.com/viniciusrpb/cic0269_natural_language_processing/blob/main/cap03_3_deep_multilayer_perceptron.ipynb)"
      ],
      "metadata": {
        "id": "SvVMYNsqVTPA"
      }
    },
    {
      "cell_type": "code",
      "execution_count": 1,
      "metadata": {
        "id": "8qesw4rNMsde",
        "colab": {
          "base_uri": "https://localhost:8080/"
        },
        "outputId": "86f4c116-907f-456b-cfd6-da0cb2df7c6d"
      },
      "outputs": [
        {
          "output_type": "stream",
          "name": "stdout",
          "text": [
            "Looking in indexes: https://pypi.org/simple, https://us-python.pkg.dev/colab-wheels/public/simple/\n",
            "Requirement already satisfied: keras in /usr/local/lib/python3.7/dist-packages (2.8.0)\n",
            "Looking in indexes: https://pypi.org/simple, https://us-python.pkg.dev/colab-wheels/public/simple/\n",
            "Requirement already satisfied: tensorflow in /usr/local/lib/python3.7/dist-packages (2.8.2+zzzcolab20220719082949)\n",
            "Requirement already satisfied: opt-einsum>=2.3.2 in /usr/local/lib/python3.7/dist-packages (from tensorflow) (3.3.0)\n",
            "Requirement already satisfied: h5py>=2.9.0 in /usr/local/lib/python3.7/dist-packages (from tensorflow) (3.1.0)\n",
            "Requirement already satisfied: google-pasta>=0.1.1 in /usr/local/lib/python3.7/dist-packages (from tensorflow) (0.2.0)\n",
            "Requirement already satisfied: gast>=0.2.1 in /usr/local/lib/python3.7/dist-packages (from tensorflow) (0.5.3)\n",
            "Requirement already satisfied: tensorflow-estimator<2.9,>=2.8 in /usr/local/lib/python3.7/dist-packages (from tensorflow) (2.8.0)\n",
            "Requirement already satisfied: flatbuffers>=1.12 in /usr/local/lib/python3.7/dist-packages (from tensorflow) (2.0)\n",
            "Requirement already satisfied: wrapt>=1.11.0 in /usr/local/lib/python3.7/dist-packages (from tensorflow) (1.14.1)\n",
            "Requirement already satisfied: six>=1.12.0 in /usr/local/lib/python3.7/dist-packages (from tensorflow) (1.15.0)\n",
            "Requirement already satisfied: protobuf<3.20,>=3.9.2 in /usr/local/lib/python3.7/dist-packages (from tensorflow) (3.17.3)\n",
            "Requirement already satisfied: setuptools in /usr/local/lib/python3.7/dist-packages (from tensorflow) (57.4.0)\n",
            "Requirement already satisfied: grpcio<2.0,>=1.24.3 in /usr/local/lib/python3.7/dist-packages (from tensorflow) (1.47.0)\n",
            "Requirement already satisfied: typing-extensions>=3.6.6 in /usr/local/lib/python3.7/dist-packages (from tensorflow) (4.1.1)\n",
            "Requirement already satisfied: absl-py>=0.4.0 in /usr/local/lib/python3.7/dist-packages (from tensorflow) (1.2.0)\n",
            "Requirement already satisfied: keras-preprocessing>=1.1.1 in /usr/local/lib/python3.7/dist-packages (from tensorflow) (1.1.2)\n",
            "Requirement already satisfied: keras<2.9,>=2.8.0rc0 in /usr/local/lib/python3.7/dist-packages (from tensorflow) (2.8.0)\n",
            "Requirement already satisfied: tensorboard<2.9,>=2.8 in /usr/local/lib/python3.7/dist-packages (from tensorflow) (2.8.0)\n",
            "Requirement already satisfied: numpy>=1.20 in /usr/local/lib/python3.7/dist-packages (from tensorflow) (1.21.6)\n",
            "Requirement already satisfied: termcolor>=1.1.0 in /usr/local/lib/python3.7/dist-packages (from tensorflow) (1.1.0)\n",
            "Requirement already satisfied: tensorflow-io-gcs-filesystem>=0.23.1 in /usr/local/lib/python3.7/dist-packages (from tensorflow) (0.26.0)\n",
            "Requirement already satisfied: libclang>=9.0.1 in /usr/local/lib/python3.7/dist-packages (from tensorflow) (14.0.1)\n",
            "Requirement already satisfied: astunparse>=1.6.0 in /usr/local/lib/python3.7/dist-packages (from tensorflow) (1.6.3)\n",
            "Requirement already satisfied: wheel<1.0,>=0.23.0 in /usr/local/lib/python3.7/dist-packages (from astunparse>=1.6.0->tensorflow) (0.37.1)\n",
            "Requirement already satisfied: cached-property in /usr/local/lib/python3.7/dist-packages (from h5py>=2.9.0->tensorflow) (1.5.2)\n",
            "Requirement already satisfied: tensorboard-data-server<0.7.0,>=0.6.0 in /usr/local/lib/python3.7/dist-packages (from tensorboard<2.9,>=2.8->tensorflow) (0.6.1)\n",
            "Requirement already satisfied: werkzeug>=0.11.15 in /usr/local/lib/python3.7/dist-packages (from tensorboard<2.9,>=2.8->tensorflow) (1.0.1)\n",
            "Requirement already satisfied: markdown>=2.6.8 in /usr/local/lib/python3.7/dist-packages (from tensorboard<2.9,>=2.8->tensorflow) (3.4.1)\n",
            "Requirement already satisfied: google-auth-oauthlib<0.5,>=0.4.1 in /usr/local/lib/python3.7/dist-packages (from tensorboard<2.9,>=2.8->tensorflow) (0.4.6)\n",
            "Requirement already satisfied: google-auth<3,>=1.6.3 in /usr/local/lib/python3.7/dist-packages (from tensorboard<2.9,>=2.8->tensorflow) (1.35.0)\n",
            "Requirement already satisfied: tensorboard-plugin-wit>=1.6.0 in /usr/local/lib/python3.7/dist-packages (from tensorboard<2.9,>=2.8->tensorflow) (1.8.1)\n",
            "Requirement already satisfied: requests<3,>=2.21.0 in /usr/local/lib/python3.7/dist-packages (from tensorboard<2.9,>=2.8->tensorflow) (2.23.0)\n",
            "Requirement already satisfied: pyasn1-modules>=0.2.1 in /usr/local/lib/python3.7/dist-packages (from google-auth<3,>=1.6.3->tensorboard<2.9,>=2.8->tensorflow) (0.2.8)\n",
            "Requirement already satisfied: rsa<5,>=3.1.4 in /usr/local/lib/python3.7/dist-packages (from google-auth<3,>=1.6.3->tensorboard<2.9,>=2.8->tensorflow) (4.9)\n",
            "Requirement already satisfied: cachetools<5.0,>=2.0.0 in /usr/local/lib/python3.7/dist-packages (from google-auth<3,>=1.6.3->tensorboard<2.9,>=2.8->tensorflow) (4.2.4)\n",
            "Requirement already satisfied: requests-oauthlib>=0.7.0 in /usr/local/lib/python3.7/dist-packages (from google-auth-oauthlib<0.5,>=0.4.1->tensorboard<2.9,>=2.8->tensorflow) (1.3.1)\n",
            "Requirement already satisfied: importlib-metadata>=4.4 in /usr/local/lib/python3.7/dist-packages (from markdown>=2.6.8->tensorboard<2.9,>=2.8->tensorflow) (4.12.0)\n",
            "Requirement already satisfied: zipp>=0.5 in /usr/local/lib/python3.7/dist-packages (from importlib-metadata>=4.4->markdown>=2.6.8->tensorboard<2.9,>=2.8->tensorflow) (3.8.1)\n",
            "Requirement already satisfied: pyasn1<0.5.0,>=0.4.6 in /usr/local/lib/python3.7/dist-packages (from pyasn1-modules>=0.2.1->google-auth<3,>=1.6.3->tensorboard<2.9,>=2.8->tensorflow) (0.4.8)\n",
            "Requirement already satisfied: certifi>=2017.4.17 in /usr/local/lib/python3.7/dist-packages (from requests<3,>=2.21.0->tensorboard<2.9,>=2.8->tensorflow) (2022.6.15)\n",
            "Requirement already satisfied: idna<3,>=2.5 in /usr/local/lib/python3.7/dist-packages (from requests<3,>=2.21.0->tensorboard<2.9,>=2.8->tensorflow) (2.10)\n",
            "Requirement already satisfied: chardet<4,>=3.0.2 in /usr/local/lib/python3.7/dist-packages (from requests<3,>=2.21.0->tensorboard<2.9,>=2.8->tensorflow) (3.0.4)\n",
            "Requirement already satisfied: urllib3!=1.25.0,!=1.25.1,<1.26,>=1.21.1 in /usr/local/lib/python3.7/dist-packages (from requests<3,>=2.21.0->tensorboard<2.9,>=2.8->tensorflow) (1.24.3)\n",
            "Requirement already satisfied: oauthlib>=3.0.0 in /usr/local/lib/python3.7/dist-packages (from requests-oauthlib>=0.7.0->google-auth-oauthlib<0.5,>=0.4.1->tensorboard<2.9,>=2.8->tensorflow) (3.2.0)\n"
          ]
        }
      ],
      "source": [
        "!pip install keras\n",
        "!pip install tensorflow"
      ]
    },
    {
      "cell_type": "code",
      "source": [
        "import pandas as pd\n",
        "from keras.models import Sequential\n",
        "from keras.layers import Dense\n",
        "from sklearn.feature_extraction.text import TfidfVectorizer\n",
        "from tensorflow.keras.optimizers import SGD\n",
        "from keras.utils.np_utils import to_categorical\n",
        "import matplotlib.pyplot as plt"
      ],
      "metadata": {
        "id": "kLa3daEePeVT"
      },
      "execution_count": 2,
      "outputs": []
    },
    {
      "cell_type": "code",
      "source": [
        "path_train = 'https://raw.githubusercontent.com/viniciusrpb/cic0269_natural_language_processing/main/datasets/corpora/tweets_polarity_classification/twitter-2013train-A.txt'\n",
        "path_test = 'https://raw.githubusercontent.com/viniciusrpb/cic0269_natural_language_processing/main/datasets/corpora/tweets_polarity_classification/twitter-2013test-A.txt'\n",
        "path_valid = 'https://raw.githubusercontent.com/viniciusrpb/cic0269_natural_language_processing/main/datasets/corpora/tweets_polarity_classification/twitter-2013dev-A.txt'"
      ],
      "metadata": {
        "id": "kJ8N5yE_Nwm6"
      },
      "execution_count": 3,
      "outputs": []
    },
    {
      "cell_type": "code",
      "source": [
        "df_train = pd.read_csv(path_train,names=['id','polarity','text'],sep='\\t')\n",
        "df_valid = pd.read_csv(path_valid,names=['id','polarity','text'],sep='\\t')\n",
        "df_test = pd.read_csv(path_test,names=['id','polarity','text'],sep='\\t')"
      ],
      "metadata": {
        "id": "MWO6bS02PaeH"
      },
      "execution_count": 4,
      "outputs": []
    },
    {
      "cell_type": "code",
      "source": [
        "df_test"
      ],
      "metadata": {
        "colab": {
          "base_uri": "https://localhost:8080/",
          "height": 424
        },
        "id": "KEfJe3N5Pzpo",
        "outputId": "6209b87f-68e1-4dec-b4b1-bce13abe7d96"
      },
      "execution_count": 5,
      "outputs": [
        {
          "output_type": "execute_result",
          "data": {
            "text/plain": [
              "                      id  polarity  \\\n",
              "0     264238274963451904  positive   \n",
              "1     218775148495515649  positive   \n",
              "2     258965201766998017   neutral   \n",
              "3     262926411352903682  negative   \n",
              "4     171874368908050432   neutral   \n",
              "...                  ...       ...   \n",
              "3542  264233437060288512  negative   \n",
              "3543  263779058284904448   neutral   \n",
              "3544  250744453831213056  negative   \n",
              "3545  258679974591090688  positive   \n",
              "3546  243018372453916674   neutral   \n",
              "\n",
              "                                                   text  \n",
              "0     @jjuueellzz down in the Atlantic city, ventnor...  \n",
              "1     Musical awareness: Great Big Beautiful Tomorro...  \n",
              "2     On Radio786 100.4fm 7:10 Fri Oct 19 Labour ana...  \n",
              "3     Kapan sih lo ngebuktiin,jan ngomong doang Susa...  \n",
              "4     Excuse the connectivity of this live stream, f...  \n",
              "...                                                 ...  \n",
              "3542  Khaleda Zia's present India visit may have a b...  \n",
              "3543  FYI, golf fans: @jameslepp will join Moj on We...  \n",
              "3544  @__Aniko you think mr.Calle let practice with ...  \n",
              "3545  Don't hide under your desk! It's just a salsa ...  \n",
              "3546  Saturday flashmob on the music of The Runaways...  \n",
              "\n",
              "[3547 rows x 3 columns]"
            ],
            "text/html": [
              "\n",
              "  <div id=\"df-d08b265a-2a25-4e10-be9e-c6607d0046b2\">\n",
              "    <div class=\"colab-df-container\">\n",
              "      <div>\n",
              "<style scoped>\n",
              "    .dataframe tbody tr th:only-of-type {\n",
              "        vertical-align: middle;\n",
              "    }\n",
              "\n",
              "    .dataframe tbody tr th {\n",
              "        vertical-align: top;\n",
              "    }\n",
              "\n",
              "    .dataframe thead th {\n",
              "        text-align: right;\n",
              "    }\n",
              "</style>\n",
              "<table border=\"1\" class=\"dataframe\">\n",
              "  <thead>\n",
              "    <tr style=\"text-align: right;\">\n",
              "      <th></th>\n",
              "      <th>id</th>\n",
              "      <th>polarity</th>\n",
              "      <th>text</th>\n",
              "    </tr>\n",
              "  </thead>\n",
              "  <tbody>\n",
              "    <tr>\n",
              "      <th>0</th>\n",
              "      <td>264238274963451904</td>\n",
              "      <td>positive</td>\n",
              "      <td>@jjuueellzz down in the Atlantic city, ventnor...</td>\n",
              "    </tr>\n",
              "    <tr>\n",
              "      <th>1</th>\n",
              "      <td>218775148495515649</td>\n",
              "      <td>positive</td>\n",
              "      <td>Musical awareness: Great Big Beautiful Tomorro...</td>\n",
              "    </tr>\n",
              "    <tr>\n",
              "      <th>2</th>\n",
              "      <td>258965201766998017</td>\n",
              "      <td>neutral</td>\n",
              "      <td>On Radio786 100.4fm 7:10 Fri Oct 19 Labour ana...</td>\n",
              "    </tr>\n",
              "    <tr>\n",
              "      <th>3</th>\n",
              "      <td>262926411352903682</td>\n",
              "      <td>negative</td>\n",
              "      <td>Kapan sih lo ngebuktiin,jan ngomong doang Susa...</td>\n",
              "    </tr>\n",
              "    <tr>\n",
              "      <th>4</th>\n",
              "      <td>171874368908050432</td>\n",
              "      <td>neutral</td>\n",
              "      <td>Excuse the connectivity of this live stream, f...</td>\n",
              "    </tr>\n",
              "    <tr>\n",
              "      <th>...</th>\n",
              "      <td>...</td>\n",
              "      <td>...</td>\n",
              "      <td>...</td>\n",
              "    </tr>\n",
              "    <tr>\n",
              "      <th>3542</th>\n",
              "      <td>264233437060288512</td>\n",
              "      <td>negative</td>\n",
              "      <td>Khaleda Zia's present India visit may have a b...</td>\n",
              "    </tr>\n",
              "    <tr>\n",
              "      <th>3543</th>\n",
              "      <td>263779058284904448</td>\n",
              "      <td>neutral</td>\n",
              "      <td>FYI, golf fans: @jameslepp will join Moj on We...</td>\n",
              "    </tr>\n",
              "    <tr>\n",
              "      <th>3544</th>\n",
              "      <td>250744453831213056</td>\n",
              "      <td>negative</td>\n",
              "      <td>@__Aniko you think mr.Calle let practice with ...</td>\n",
              "    </tr>\n",
              "    <tr>\n",
              "      <th>3545</th>\n",
              "      <td>258679974591090688</td>\n",
              "      <td>positive</td>\n",
              "      <td>Don't hide under your desk! It's just a salsa ...</td>\n",
              "    </tr>\n",
              "    <tr>\n",
              "      <th>3546</th>\n",
              "      <td>243018372453916674</td>\n",
              "      <td>neutral</td>\n",
              "      <td>Saturday flashmob on the music of The Runaways...</td>\n",
              "    </tr>\n",
              "  </tbody>\n",
              "</table>\n",
              "<p>3547 rows × 3 columns</p>\n",
              "</div>\n",
              "      <button class=\"colab-df-convert\" onclick=\"convertToInteractive('df-d08b265a-2a25-4e10-be9e-c6607d0046b2')\"\n",
              "              title=\"Convert this dataframe to an interactive table.\"\n",
              "              style=\"display:none;\">\n",
              "        \n",
              "  <svg xmlns=\"http://www.w3.org/2000/svg\" height=\"24px\"viewBox=\"0 0 24 24\"\n",
              "       width=\"24px\">\n",
              "    <path d=\"M0 0h24v24H0V0z\" fill=\"none\"/>\n",
              "    <path d=\"M18.56 5.44l.94 2.06.94-2.06 2.06-.94-2.06-.94-.94-2.06-.94 2.06-2.06.94zm-11 1L8.5 8.5l.94-2.06 2.06-.94-2.06-.94L8.5 2.5l-.94 2.06-2.06.94zm10 10l.94 2.06.94-2.06 2.06-.94-2.06-.94-.94-2.06-.94 2.06-2.06.94z\"/><path d=\"M17.41 7.96l-1.37-1.37c-.4-.4-.92-.59-1.43-.59-.52 0-1.04.2-1.43.59L10.3 9.45l-7.72 7.72c-.78.78-.78 2.05 0 2.83L4 21.41c.39.39.9.59 1.41.59.51 0 1.02-.2 1.41-.59l7.78-7.78 2.81-2.81c.8-.78.8-2.07 0-2.86zM5.41 20L4 18.59l7.72-7.72 1.47 1.35L5.41 20z\"/>\n",
              "  </svg>\n",
              "      </button>\n",
              "      \n",
              "  <style>\n",
              "    .colab-df-container {\n",
              "      display:flex;\n",
              "      flex-wrap:wrap;\n",
              "      gap: 12px;\n",
              "    }\n",
              "\n",
              "    .colab-df-convert {\n",
              "      background-color: #E8F0FE;\n",
              "      border: none;\n",
              "      border-radius: 50%;\n",
              "      cursor: pointer;\n",
              "      display: none;\n",
              "      fill: #1967D2;\n",
              "      height: 32px;\n",
              "      padding: 0 0 0 0;\n",
              "      width: 32px;\n",
              "    }\n",
              "\n",
              "    .colab-df-convert:hover {\n",
              "      background-color: #E2EBFA;\n",
              "      box-shadow: 0px 1px 2px rgba(60, 64, 67, 0.3), 0px 1px 3px 1px rgba(60, 64, 67, 0.15);\n",
              "      fill: #174EA6;\n",
              "    }\n",
              "\n",
              "    [theme=dark] .colab-df-convert {\n",
              "      background-color: #3B4455;\n",
              "      fill: #D2E3FC;\n",
              "    }\n",
              "\n",
              "    [theme=dark] .colab-df-convert:hover {\n",
              "      background-color: #434B5C;\n",
              "      box-shadow: 0px 1px 3px 1px rgba(0, 0, 0, 0.15);\n",
              "      filter: drop-shadow(0px 1px 2px rgba(0, 0, 0, 0.3));\n",
              "      fill: #FFFFFF;\n",
              "    }\n",
              "  </style>\n",
              "\n",
              "      <script>\n",
              "        const buttonEl =\n",
              "          document.querySelector('#df-d08b265a-2a25-4e10-be9e-c6607d0046b2 button.colab-df-convert');\n",
              "        buttonEl.style.display =\n",
              "          google.colab.kernel.accessAllowed ? 'block' : 'none';\n",
              "\n",
              "        async function convertToInteractive(key) {\n",
              "          const element = document.querySelector('#df-d08b265a-2a25-4e10-be9e-c6607d0046b2');\n",
              "          const dataTable =\n",
              "            await google.colab.kernel.invokeFunction('convertToInteractive',\n",
              "                                                     [key], {});\n",
              "          if (!dataTable) return;\n",
              "\n",
              "          const docLinkHtml = 'Like what you see? Visit the ' +\n",
              "            '<a target=\"_blank\" href=https://colab.research.google.com/notebooks/data_table.ipynb>data table notebook</a>'\n",
              "            + ' to learn more about interactive tables.';\n",
              "          element.innerHTML = '';\n",
              "          dataTable['output_type'] = 'display_data';\n",
              "          await google.colab.output.renderOutput(dataTable, element);\n",
              "          const docLink = document.createElement('div');\n",
              "          docLink.innerHTML = docLinkHtml;\n",
              "          element.appendChild(docLink);\n",
              "        }\n",
              "      </script>\n",
              "    </div>\n",
              "  </div>\n",
              "  "
            ]
          },
          "metadata": {},
          "execution_count": 5
        }
      ]
    },
    {
      "cell_type": "code",
      "source": [
        "print(f'Train size {df_train.shape}')\n",
        "print(f'Valid size {df_valid.shape}')\n",
        "print(f'Test size {df_test.shape}')"
      ],
      "metadata": {
        "colab": {
          "base_uri": "https://localhost:8080/"
        },
        "id": "DSwe3wvLP_xb",
        "outputId": "e55c3cb6-87d4-459e-c00d-7cfee46c0c47"
      },
      "execution_count": 6,
      "outputs": [
        {
          "output_type": "stream",
          "name": "stdout",
          "text": [
            "Train size (9684, 3)\n",
            "Valid size (1654, 3)\n",
            "Test size (3547, 3)\n"
          ]
        }
      ]
    },
    {
      "cell_type": "code",
      "source": [
        "df_train = df_train.drop(labels=['id'],axis=1)\n",
        "df_valid = df_valid.drop(labels=['id'],axis=1)\n",
        "df_test = df_test.drop(labels=['id'],axis=1)"
      ],
      "metadata": {
        "id": "JEEwUpt-Qa-o"
      },
      "execution_count": 7,
      "outputs": []
    },
    {
      "cell_type": "code",
      "source": [
        "vectorizer = TfidfVectorizer(norm=None,lowercase=True,stop_words=\"english\",max_df=0.95,min_df=2)\n",
        "\n",
        "vectorizer.fit(df_train['text'])\n",
        "\n",
        "tfidf_train = vectorizer.transform(df_train['text']).toarray()\n",
        "tfidf_valid = vectorizer.transform(df_valid['text']).toarray()\n",
        "tfidf_test = vectorizer.transform(df_test['text']).toarray()"
      ],
      "metadata": {
        "id": "dbtaZnFlRA8l"
      },
      "execution_count": 8,
      "outputs": []
    },
    {
      "cell_type": "code",
      "source": [
        "df_train['polarity'] = pd.Categorical(df_train['polarity'])\n",
        "y_train_int = df_train['polarity'].cat.codes\n",
        "\n",
        "df_valid['polarity'] = pd.Categorical(df_valid['polarity'])\n",
        "y_valid_int = df_valid['polarity'].cat.codes\n",
        "\n",
        "df_test['polarity'] = pd.Categorical(df_test['polarity'])\n",
        "y_test_int = df_test['polarity'].cat.codes"
      ],
      "metadata": {
        "id": "BrT8ydnGb4Eq"
      },
      "execution_count": 9,
      "outputs": []
    },
    {
      "cell_type": "code",
      "source": [
        "y_train = to_categorical(y_train_int)\n",
        "y_valid = to_categorical(y_valid_int)\n",
        "y_test = to_categorical(y_test_int)"
      ],
      "metadata": {
        "id": "V4Wd20UQdP9z"
      },
      "execution_count": 10,
      "outputs": []
    },
    {
      "cell_type": "code",
      "source": [
        ""
      ],
      "metadata": {
        "id": "9jjAj7fSdyP1"
      },
      "execution_count": 10,
      "outputs": []
    },
    {
      "cell_type": "code",
      "source": [
        "X_train = tfidf_train\n",
        "X_valid = tfidf_valid\n",
        "X_test = tfidf_test"
      ],
      "metadata": {
        "id": "7jC6GyCRbplq"
      },
      "execution_count": 11,
      "outputs": []
    },
    {
      "cell_type": "code",
      "source": [
        "N = tfidf_train.shape[0]\n",
        "vocab_size = tfidf_train.shape[1]\n",
        "print(f'Quantidade de instancias de treinamento {N} e tamanho do vocabulario {vocab_size}')"
      ],
      "metadata": {
        "colab": {
          "base_uri": "https://localhost:8080/"
        },
        "id": "vKP6m6AsXsql",
        "outputId": "4f0b5edd-f5a9-439a-ca4d-21a808a52994"
      },
      "execution_count": 12,
      "outputs": [
        {
          "output_type": "stream",
          "name": "stdout",
          "text": [
            "Quantidade de instancias de treinamento 9684 e tamanho do vocabulario 7654\n"
          ]
        }
      ]
    },
    {
      "cell_type": "markdown",
      "source": [
        "Arquitetura da Rede Multilayer Perceptron Profunda"
      ],
      "metadata": {
        "id": "8ZBTwtGUR7oW"
      }
    },
    {
      "cell_type": "markdown",
      "source": [
        "Hyperparâmetros da rede"
      ],
      "metadata": {
        "id": "opRBBhsCTuiL"
      }
    },
    {
      "cell_type": "code",
      "source": [
        "number_of_neurons_layer1 = 20\n",
        "number_of_neurons_layer2 = 10\n",
        "number_of_neurons_output = 3\n",
        "lr = 0.01"
      ],
      "metadata": {
        "id": "knTDnztUTtyW"
      },
      "execution_count": 13,
      "outputs": []
    },
    {
      "cell_type": "code",
      "source": [
        "model = Sequential()\n",
        "# Input Layer\n",
        "model.add(Dense(number_of_neurons_layer1,input_dim=vocab_size,activation='sigmoid'))\n",
        "model.add(Dense(number_of_neurons_layer2,activation='sigmoid'))\n",
        "model.add(Dense(number_of_neurons_output,activation='softmax'))\n",
        "model.summary()"
      ],
      "metadata": {
        "colab": {
          "base_uri": "https://localhost:8080/"
        },
        "id": "lFnqMSwQR-C9",
        "outputId": "1c9bce46-29d4-4af8-e479-291e1a2ac5dc"
      },
      "execution_count": 14,
      "outputs": [
        {
          "output_type": "stream",
          "name": "stdout",
          "text": [
            "Model: \"sequential\"\n",
            "_________________________________________________________________\n",
            " Layer (type)                Output Shape              Param #   \n",
            "=================================================================\n",
            " dense (Dense)               (None, 20)                153100    \n",
            "                                                                 \n",
            " dense_1 (Dense)             (None, 10)                210       \n",
            "                                                                 \n",
            " dense_2 (Dense)             (None, 3)                 33        \n",
            "                                                                 \n",
            "=================================================================\n",
            "Total params: 153,343\n",
            "Trainable params: 153,343\n",
            "Non-trainable params: 0\n",
            "_________________________________________________________________\n"
          ]
        }
      ]
    },
    {
      "cell_type": "code",
      "source": [
        "sgd = SGD(learning_rate=lr)\n",
        "model.compile(optimizer=sgd,loss='categorical_crossentropy',metrics=['accuracy'])"
      ],
      "metadata": {
        "id": "NVCoUJfAZ21I"
      },
      "execution_count": 15,
      "outputs": []
    },
    {
      "cell_type": "code",
      "source": [
        "history = model.fit(X_train,y_train,validation_data=(X_valid,y_valid),epochs=50)"
      ],
      "metadata": {
        "colab": {
          "base_uri": "https://localhost:8080/"
        },
        "id": "6f4dinSJbXft",
        "outputId": "01f0fd9d-9c97-424d-ed30-a5ef02254880"
      },
      "execution_count": 16,
      "outputs": [
        {
          "output_type": "stream",
          "name": "stdout",
          "text": [
            "Epoch 1/50\n",
            "303/303 [==============================] - 2s 5ms/step - loss: 1.0264 - accuracy: 0.4736 - val_loss: 1.0601 - val_accuracy: 0.4468\n",
            "Epoch 2/50\n",
            "303/303 [==============================] - 2s 7ms/step - loss: 1.0052 - accuracy: 0.4736 - val_loss: 1.0613 - val_accuracy: 0.4468\n",
            "Epoch 3/50\n",
            "303/303 [==============================] - 2s 6ms/step - loss: 1.0031 - accuracy: 0.4736 - val_loss: 1.0600 - val_accuracy: 0.4468\n",
            "Epoch 4/50\n",
            "303/303 [==============================] - 2s 7ms/step - loss: 1.0011 - accuracy: 0.4736 - val_loss: 1.0582 - val_accuracy: 0.4468\n",
            "Epoch 5/50\n",
            "303/303 [==============================] - 2s 6ms/step - loss: 0.9988 - accuracy: 0.4736 - val_loss: 1.0566 - val_accuracy: 0.4468\n",
            "Epoch 6/50\n",
            "303/303 [==============================] - 2s 6ms/step - loss: 0.9965 - accuracy: 0.4736 - val_loss: 1.0537 - val_accuracy: 0.4468\n",
            "Epoch 7/50\n",
            "303/303 [==============================] - 2s 6ms/step - loss: 0.9939 - accuracy: 0.4736 - val_loss: 1.0544 - val_accuracy: 0.4468\n",
            "Epoch 8/50\n",
            "303/303 [==============================] - 2s 7ms/step - loss: 0.9912 - accuracy: 0.4736 - val_loss: 1.0497 - val_accuracy: 0.4462\n",
            "Epoch 9/50\n",
            "303/303 [==============================] - 2s 7ms/step - loss: 0.9879 - accuracy: 0.4739 - val_loss: 1.0462 - val_accuracy: 0.4516\n",
            "Epoch 10/50\n",
            "303/303 [==============================] - 2s 7ms/step - loss: 0.9843 - accuracy: 0.4764 - val_loss: 1.0461 - val_accuracy: 0.4474\n",
            "Epoch 11/50\n",
            "303/303 [==============================] - 2s 7ms/step - loss: 0.9802 - accuracy: 0.4798 - val_loss: 1.0409 - val_accuracy: 0.4559\n",
            "Epoch 12/50\n",
            "303/303 [==============================] - 2s 6ms/step - loss: 0.9755 - accuracy: 0.4883 - val_loss: 1.0384 - val_accuracy: 0.4692\n",
            "Epoch 13/50\n",
            "303/303 [==============================] - 2s 7ms/step - loss: 0.9700 - accuracy: 0.4988 - val_loss: 1.0328 - val_accuracy: 0.4819\n",
            "Epoch 14/50\n",
            "303/303 [==============================] - 2s 7ms/step - loss: 0.9639 - accuracy: 0.5152 - val_loss: 1.0293 - val_accuracy: 0.4921\n",
            "Epoch 15/50\n",
            "303/303 [==============================] - 2s 6ms/step - loss: 0.9568 - accuracy: 0.5368 - val_loss: 1.0228 - val_accuracy: 0.4940\n",
            "Epoch 16/50\n",
            "303/303 [==============================] - 2s 6ms/step - loss: 0.9487 - accuracy: 0.5515 - val_loss: 1.0181 - val_accuracy: 0.5151\n",
            "Epoch 17/50\n",
            "303/303 [==============================] - 2s 6ms/step - loss: 0.9395 - accuracy: 0.5713 - val_loss: 1.0103 - val_accuracy: 0.5224\n",
            "Epoch 18/50\n",
            "303/303 [==============================] - 2s 6ms/step - loss: 0.9292 - accuracy: 0.5919 - val_loss: 1.0047 - val_accuracy: 0.5206\n",
            "Epoch 19/50\n",
            "303/303 [==============================] - 2s 7ms/step - loss: 0.9178 - accuracy: 0.5969 - val_loss: 0.9980 - val_accuracy: 0.5417\n",
            "Epoch 20/50\n",
            "303/303 [==============================] - 2s 5ms/step - loss: 0.9056 - accuracy: 0.6176 - val_loss: 0.9889 - val_accuracy: 0.5417\n",
            "Epoch 21/50\n",
            "303/303 [==============================] - 1s 4ms/step - loss: 0.8920 - accuracy: 0.6255 - val_loss: 0.9812 - val_accuracy: 0.5484\n",
            "Epoch 22/50\n",
            "303/303 [==============================] - 1s 4ms/step - loss: 0.8780 - accuracy: 0.6343 - val_loss: 0.9732 - val_accuracy: 0.5550\n",
            "Epoch 23/50\n",
            "303/303 [==============================] - 1s 4ms/step - loss: 0.8629 - accuracy: 0.6426 - val_loss: 0.9658 - val_accuracy: 0.5611\n",
            "Epoch 24/50\n",
            "303/303 [==============================] - 1s 4ms/step - loss: 0.8473 - accuracy: 0.6496 - val_loss: 0.9562 - val_accuracy: 0.5611\n",
            "Epoch 25/50\n",
            "303/303 [==============================] - 1s 4ms/step - loss: 0.8309 - accuracy: 0.6579 - val_loss: 0.9463 - val_accuracy: 0.5629\n",
            "Epoch 26/50\n",
            "303/303 [==============================] - 1s 4ms/step - loss: 0.8138 - accuracy: 0.6642 - val_loss: 0.9370 - val_accuracy: 0.5629\n",
            "Epoch 27/50\n",
            "303/303 [==============================] - 1s 5ms/step - loss: 0.7962 - accuracy: 0.6719 - val_loss: 0.9290 - val_accuracy: 0.5713\n",
            "Epoch 28/50\n",
            "303/303 [==============================] - 2s 5ms/step - loss: 0.7780 - accuracy: 0.6779 - val_loss: 0.9195 - val_accuracy: 0.5719\n",
            "Epoch 29/50\n",
            "303/303 [==============================] - 1s 4ms/step - loss: 0.7594 - accuracy: 0.6873 - val_loss: 0.9098 - val_accuracy: 0.5719\n",
            "Epoch 30/50\n",
            "303/303 [==============================] - 1s 4ms/step - loss: 0.7404 - accuracy: 0.6919 - val_loss: 0.9003 - val_accuracy: 0.5774\n",
            "Epoch 31/50\n",
            "303/303 [==============================] - 1s 3ms/step - loss: 0.7212 - accuracy: 0.7038 - val_loss: 0.8919 - val_accuracy: 0.5816\n",
            "Epoch 32/50\n",
            "303/303 [==============================] - 1s 4ms/step - loss: 0.7017 - accuracy: 0.7135 - val_loss: 0.8858 - val_accuracy: 0.5859\n",
            "Epoch 33/50\n",
            "303/303 [==============================] - 1s 4ms/step - loss: 0.6823 - accuracy: 0.7222 - val_loss: 0.8771 - val_accuracy: 0.5943\n",
            "Epoch 34/50\n",
            "303/303 [==============================] - 1s 4ms/step - loss: 0.6629 - accuracy: 0.7330 - val_loss: 0.8709 - val_accuracy: 0.5998\n",
            "Epoch 35/50\n",
            "303/303 [==============================] - 1s 4ms/step - loss: 0.6435 - accuracy: 0.7427 - val_loss: 0.8644 - val_accuracy: 0.6022\n",
            "Epoch 36/50\n",
            "303/303 [==============================] - 1s 4ms/step - loss: 0.6245 - accuracy: 0.7523 - val_loss: 0.8596 - val_accuracy: 0.6076\n",
            "Epoch 37/50\n",
            "303/303 [==============================] - 1s 4ms/step - loss: 0.6057 - accuracy: 0.7634 - val_loss: 0.8568 - val_accuracy: 0.6100\n",
            "Epoch 38/50\n",
            "303/303 [==============================] - 1s 4ms/step - loss: 0.5871 - accuracy: 0.7727 - val_loss: 0.8519 - val_accuracy: 0.6179\n",
            "Epoch 39/50\n",
            "303/303 [==============================] - 1s 4ms/step - loss: 0.5689 - accuracy: 0.7828 - val_loss: 0.8515 - val_accuracy: 0.6191\n",
            "Epoch 40/50\n",
            "303/303 [==============================] - 1s 4ms/step - loss: 0.5508 - accuracy: 0.7933 - val_loss: 0.8512 - val_accuracy: 0.6233\n",
            "Epoch 41/50\n",
            "303/303 [==============================] - 1s 4ms/step - loss: 0.5333 - accuracy: 0.8021 - val_loss: 0.8527 - val_accuracy: 0.6282\n",
            "Epoch 42/50\n",
            "303/303 [==============================] - 1s 4ms/step - loss: 0.5161 - accuracy: 0.8120 - val_loss: 0.8521 - val_accuracy: 0.6288\n",
            "Epoch 43/50\n",
            "303/303 [==============================] - 1s 4ms/step - loss: 0.4991 - accuracy: 0.8204 - val_loss: 0.8552 - val_accuracy: 0.6294\n",
            "Epoch 44/50\n",
            "303/303 [==============================] - 1s 4ms/step - loss: 0.4826 - accuracy: 0.8291 - val_loss: 0.8589 - val_accuracy: 0.6288\n",
            "Epoch 45/50\n",
            "303/303 [==============================] - 1s 4ms/step - loss: 0.4667 - accuracy: 0.8385 - val_loss: 0.8624 - val_accuracy: 0.6300\n",
            "Epoch 46/50\n",
            "303/303 [==============================] - 1s 4ms/step - loss: 0.4511 - accuracy: 0.8448 - val_loss: 0.8641 - val_accuracy: 0.6342\n",
            "Epoch 47/50\n",
            "303/303 [==============================] - 1s 4ms/step - loss: 0.4359 - accuracy: 0.8554 - val_loss: 0.8735 - val_accuracy: 0.6282\n",
            "Epoch 48/50\n",
            "303/303 [==============================] - 1s 4ms/step - loss: 0.4214 - accuracy: 0.8602 - val_loss: 0.8751 - val_accuracy: 0.6318\n",
            "Epoch 49/50\n",
            "303/303 [==============================] - 1s 4ms/step - loss: 0.4073 - accuracy: 0.8674 - val_loss: 0.8801 - val_accuracy: 0.6318\n",
            "Epoch 50/50\n",
            "303/303 [==============================] - 1s 4ms/step - loss: 0.3937 - accuracy: 0.8732 - val_loss: 0.8903 - val_accuracy: 0.6300\n"
          ]
        }
      ]
    },
    {
      "cell_type": "code",
      "source": [
        "plt.plot(history.history['loss'])\n",
        "plt.plot(history.history['val_loss'])\n",
        "plt.title('Model loss')\n",
        "plt.ylabel('Loss')\n",
        "plt.xlabel('Epoch')\n",
        "plt.legend(['Train', 'Validation'], loc='upper left')\n",
        "plt.show()"
      ],
      "metadata": {
        "colab": {
          "base_uri": "https://localhost:8080/",
          "height": 295
        },
        "id": "OJHj7NfRfJrS",
        "outputId": "b86f3e18-236e-469d-8a5f-dc290e0b3317"
      },
      "execution_count": 17,
      "outputs": [
        {
          "output_type": "display_data",
          "data": {
            "text/plain": [
              "<Figure size 432x288 with 1 Axes>"
            ],
            "image/png": "[encoded data removed]"
          },
          "metadata": {
            "needs_background": "light"
          }
        }
      ]
    },
    {
      "cell_type": "code",
      "source": [
        "plt.plot(history.history['accuracy'])\n",
        "plt.plot(history.history['val_accuracy'])\n",
        "plt.title('Model acc')\n",
        "plt.ylabel('Accuracy')\n",
        "plt.xlabel('Epoch')\n",
        "plt.legend(['Train', 'Validation'], loc='upper left')\n",
        "plt.show()"
      ],
      "metadata": {
        "colab": {
          "base_uri": "https://localhost:8080/",
          "height": 295
        },
        "id": "cUKzQDzCgdVX",
        "outputId": "8ab8ac88-1b42-4727-f9ab-6312e57d78cb"
      },
      "execution_count": 18,
      "outputs": [
        {
          "output_type": "display_data",
          "data": {
            "text/plain": [
              "<Figure size 432x288 with 1 Axes>"
            ],
            "image/png": "[encoded data removed]"
          },
          "metadata": {
            "needs_background": "light"
          }
        }
      ]
    },
    {
      "cell_type": "markdown",
      "source": [
        "Avaliação com os Dados de Teste"
      ],
      "metadata": {
        "id": "QP7yxTEPg1Nv"
      }
    },
    {
      "cell_type": "code",
      "source": [
        "y = model.evaluate(X_test,y_test)"
      ],
      "metadata": {
        "colab": {
          "base_uri": "https://localhost:8080/"
        },
        "id": "yM-hXxVtg4J2",
        "outputId": "1aefeb72-20d7-4ba1-dcaa-55ec69dd1c00"
      },
      "execution_count": 19,
      "outputs": [
        {
          "output_type": "stream",
          "name": "stdout",
          "text": [
            "111/111 [==============================] - 0s 2ms/step - loss: 0.8734 - accuracy: 0.6456\n"
          ]
        }
      ]
    },
    {
      "cell_type": "code",
      "source": [
        "import numpy as np\n",
        "y_prob = model.predict(X_test)\n",
        "y_prob"
      ],
      "metadata": {
        "colab": {
          "base_uri": "https://localhost:8080/"
        },
        "id": "u42IOHfzlCnM",
        "outputId": "bf145290-d0af-44df-c1f6-631c536c8759"
      },
      "execution_count": 20,
      "outputs": [
        {
          "output_type": "execute_result",
          "data": {
            "text/plain": [
              "array([[0.08490456, 0.22290765, 0.6921878 ],\n",
              "       [0.0358107 , 0.01047515, 0.95371413],\n",
              "       [0.03790961, 0.90794843, 0.05414195],\n",
              "       ...,\n",
              "       [0.12859167, 0.5960742 , 0.2753341 ],\n",
              "       [0.29461738, 0.12678781, 0.57859486],\n",
              "       [0.14456524, 0.59316665, 0.26226807]], dtype=float32)"
            ]
          },
          "metadata": {},
          "execution_count": 20
        }
      ]
    },
    {
      "cell_type": "code",
      "source": [
        "y_pred = np.argmax(y_prob,axis=1)\n",
        "y_pred"
      ],
      "metadata": {
        "colab": {
          "base_uri": "https://localhost:8080/"
        },
        "id": "zJDx8GlRlyPz",
        "outputId": "8b0c5d45-d5ba-4cfb-c882-9ce88130074e"
      },
      "execution_count": 21,
      "outputs": [
        {
          "output_type": "execute_result",
          "data": {
            "text/plain": [
              "array([2, 2, 1, ..., 1, 2, 1])"
            ]
          },
          "metadata": {},
          "execution_count": 21
        }
      ]
    },
    {
      "cell_type": "code",
      "source": [
        "y_test_int"
      ],
      "metadata": {
        "colab": {
          "base_uri": "https://localhost:8080/"
        },
        "id": "yTsaRqgVllE3",
        "outputId": "2de2d9df-59e1-44fc-df97-25aad60e7fc4"
      },
      "execution_count": 22,
      "outputs": [
        {
          "output_type": "execute_result",
          "data": {
            "text/plain": [
              "0       2\n",
              "1       2\n",
              "2       1\n",
              "3       0\n",
              "4       1\n",
              "       ..\n",
              "3542    0\n",
              "3543    1\n",
              "3544    0\n",
              "3545    2\n",
              "3546    1\n",
              "Length: 3547, dtype: int8"
            ]
          },
          "metadata": {},
          "execution_count": 22
        }
      ]
    },
    {
      "cell_type": "markdown",
      "source": [
        "# Medidas de Precisão\n",
        "## Matriz de confusão\n",
        "\n",
        "Construindo a matriz de confusão"
      ],
      "metadata": {
        "id": "w_-kXT-B0FHy"
      }
    },
    {
      "cell_type": "code",
      "source": [
        "matrix = []\n",
        "for i in range(3):\n",
        "  matrix.append([0, 0, 0])\n",
        "matrix"
      ],
      "metadata": {
        "id": "9XD9rF4x0Ez0",
        "outputId": "254ec395-c3c8-43b6-b45d-f66aab3d9047",
        "colab": {
          "base_uri": "https://localhost:8080/"
        }
      },
      "execution_count": 23,
      "outputs": [
        {
          "output_type": "execute_result",
          "data": {
            "text/plain": [
              "[[0, 0, 0], [0, 0, 0], [0, 0, 0]]"
            ]
          },
          "metadata": {},
          "execution_count": 23
        }
      ]
    },
    {
      "cell_type": "code",
      "source": [
        "# Contando ocorrencias as ocorrencias\n",
        "for idx, i in enumerate(y_test_int):\n",
        "  matrix[i][y_pred[idx]] += 1\n",
        "\n",
        "# Mostrando a matriz\n",
        "for l in range(3):\n",
        "  print(matrix[l])"
      ],
      "metadata": {
        "id": "siSzXBt50zEz",
        "outputId": "3bf2757c-0adb-46a0-cfd8-e92d223a14b9",
        "colab": {
          "base_uri": "https://localhost:8080/"
        }
      },
      "execution_count": 24,
      "outputs": [
        {
          "output_type": "stream",
          "name": "stdout",
          "text": [
            "[104, 337, 118]\n",
            "[20, 1243, 250]\n",
            "[29, 503, 943]\n"
          ]
        }
      ]
    },
    {
      "cell_type": "markdown",
      "source": [
        "## Acurácia\n",
        "Medindo a acurácia do modelo"
      ],
      "metadata": {
        "id": "LuUiUIrKXZHp"
      }
    },
    {
      "cell_type": "code",
      "source": [
        "acc = 0\n",
        "for i in range(3):\n",
        "  acc += matrix[i][i] / len(y_pred)\n",
        "acc"
      ],
      "metadata": {
        "id": "BRqGdBEl5lFY",
        "outputId": "c81c29eb-cbe0-4bab-aae8-3b129fdfcfea",
        "colab": {
          "base_uri": "https://localhost:8080/"
        }
      },
      "execution_count": 25,
      "outputs": [
        {
          "output_type": "execute_result",
          "data": {
            "text/plain": [
              "0.6456160135325628"
            ]
          },
          "metadata": {},
          "execution_count": 25
        }
      ]
    },
    {
      "cell_type": "markdown",
      "source": [
        "## Precisão\n",
        "Precisão das três classes presentes no dataset"
      ],
      "metadata": {
        "id": "_4mW7sQwXfL7"
      }
    },
    {
      "cell_type": "code",
      "source": [
        "# Precisao\n",
        "prec = 3 * [0]\n",
        "for class_idx in range(3):\n",
        "  d = 0\n",
        "  for i in range(3):\n",
        "    d += matrix[i][class_idx]\n",
        "  prec[class_idx] = matrix[class_idx][class_idx] / d\n",
        "  print(f\"Precisão da classe {class_idx} : {prec[class_idx]:.2f}\")"
      ],
      "metadata": {
        "colab": {
          "base_uri": "https://localhost:8080/"
        },
        "id": "yfrDZPGS9lDZ",
        "outputId": "928dce4a-6de5-4582-edca-7e105fcaa9fd"
      },
      "execution_count": 26,
      "outputs": [
        {
          "output_type": "stream",
          "name": "stdout",
          "text": [
            "Precisão da classe 0 : 0.68\n",
            "Precisão da classe 1 : 0.60\n",
            "Precisão da classe 2 : 0.72\n"
          ]
        }
      ]
    },
    {
      "cell_type": "markdown",
      "source": [
        "## Revocação\n",
        "Revocação das classes do dataset"
      ],
      "metadata": {
        "id": "cyRtPTYIXtxy"
      }
    },
    {
      "cell_type": "code",
      "source": [
        "# Revocacao\n",
        "rev = 3 * [0]\n",
        "for class_idx in range(3):\n",
        "  d = 0\n",
        "  for i in range(3):\n",
        "    d += matrix[class_idx][i]\n",
        "  rev[class_idx] = matrix[class_idx][class_idx] / d\n",
        "  print(f\"Revocacao da classe {class_idx} : {rev[class_idx]:.2f}\")"
      ],
      "metadata": {
        "colab": {
          "base_uri": "https://localhost:8080/"
        },
        "id": "OnQ-OsTLAaGI",
        "outputId": "2ac57603-605f-436f-82fb-f70ef36df8a8"
      },
      "execution_count": 27,
      "outputs": [
        {
          "output_type": "stream",
          "name": "stdout",
          "text": [
            "Revocacao da classe 0 : 0.19\n",
            "Revocacao da classe 1 : 0.82\n",
            "Revocacao da classe 2 : 0.64\n"
          ]
        }
      ]
    },
    {
      "cell_type": "markdown",
      "source": [
        "## F1 Score\n",
        "Obtendo f1-score de todas as classes"
      ],
      "metadata": {
        "id": "mGDoiHSsXzd1"
      }
    },
    {
      "cell_type": "code",
      "source": [
        "# F1 score\n",
        "\n",
        "f1_score = 3 * [0]\n",
        "for i in range(3):\n",
        "  f1_score[i] = 2 * (prec[i] * rev[i]) / (prec[i] + rev[i])\n",
        "  print(f'F1 score (classe {i}) : {f1_score[i]:.2f}')"
      ],
      "metadata": {
        "colab": {
          "base_uri": "https://localhost:8080/"
        },
        "id": "HMU_v_7sUZKB",
        "outputId": "253243ea-8fad-4d5e-e547-9449d72f295d"
      },
      "execution_count": 28,
      "outputs": [
        {
          "output_type": "stream",
          "name": "stdout",
          "text": [
            "F1 score (classe 0) : 0.29\n",
            "F1 score (classe 1) : 0.69\n",
            "F1 score (classe 2) : 0.68\n"
          ]
        }
      ]
    },
    {
      "cell_type": "markdown",
      "source": [
        "# Conclusão\n",
        "Finalmente, para fins de comparação, usamos a função `classification_report`, presente no `scikit-learn`, para processar as medidas acima. Como é mostrado, as medidas são equivalentes as mostradas abaixo."
      ],
      "metadata": {
        "id": "37EOpIguX8Yz"
      }
    },
    {
      "cell_type": "code",
      "source": [
        "from sklearn.metrics import classification_report\n",
        "\n",
        "print(classification_report(y_test_int, y_pred))"
      ],
      "metadata": {
        "colab": {
          "base_uri": "https://localhost:8080/"
        },
        "id": "mmbNB9Dz9L3X",
        "outputId": "c978e7e4-4958-4b73-f330-a8c66bf771eb"
      },
      "execution_count": 29,
      "outputs": [
        {
          "output_type": "stream",
          "name": "stdout",
          "text": [
            "              precision    recall  f1-score   support\n",
            "\n",
            "           0       0.68      0.19      0.29       559\n",
            "           1       0.60      0.82      0.69      1513\n",
            "           2       0.72      0.64      0.68      1475\n",
            "\n",
            "    accuracy                           0.65      3547\n",
            "   macro avg       0.67      0.55      0.55      3547\n",
            "weighted avg       0.66      0.65      0.62      3547\n",
            "\n"
          ]
        }
      ]
    }
  ]
}